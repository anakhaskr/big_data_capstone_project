{
  "nbformat": 4,
  "nbformat_minor": 0,
  "metadata": {
    "colab": {
      "provenance": []
    },
    "kernelspec": {
      "name": "python3",
      "display_name": "Python 3"
    },
    "language_info": {
      "name": "python"
    }
  },
  "cells": [
    {
      "cell_type": "code",
      "execution_count": 4,
      "metadata": {
        "colab": {
          "base_uri": "https://localhost:8080/",
          "height": 937
        },
        "id": "BfOjtD2Ote-x",
        "outputId": "78110fb9-77a2-4a50-fd3e-25a20efacc46"
      },
      "outputs": [
        {
          "output_type": "stream",
          "name": "stdout",
          "text": [
            "+--------------------+---------+\n",
            "|               tweet|sentiment|\n",
            "+--------------------+---------+\n",
            "|I love working wi...| Positive|\n",
            "|Big data is overr...| Negative|\n",
            "|I don't know much...| Positive|\n",
            "|Big data analytic...|  Neutral|\n",
            "|Big data is just ...|  Neutral|\n",
            "|The possibilities...| Negative|\n",
            "|I think big data ...| Negative|\n",
            "|I can't stand all...|  Neutral|\n",
            "|Big data is trans...|  Neutral|\n",
            "|I'm skeptical abo...| Positive|\n",
            "+--------------------+---------+\n",
            "\n",
            "+---------+-----+\n",
            "|sentiment|count|\n",
            "+---------+-----+\n",
            "| Positive|    3|\n",
            "|  Neutral|    4|\n",
            "| Negative|    3|\n",
            "+---------+-----+\n",
            "\n"
          ]
        },
        {
          "output_type": "execute_result",
          "data": {
            "text/plain": [
              "<Axes: title={'center': 'Sentiment Distribution'}, xlabel='sentiment'>"
            ]
          },
          "metadata": {},
          "execution_count": 4
        },
        {
          "output_type": "display_data",
          "data": {
            "text/plain": [
              "<Figure size 640x480 with 1 Axes>"
            ],
            "image/png": "[encoded data removed]"
          },
          "metadata": {}
        }
      ],
      "source": [
        "from pyspark.sql import SparkSession\n",
        "from pyspark.sql.functions import col\n",
        "from textblob import TextBlob\n",
        "from pyspark.sql import functions as F\n",
        "\n",
        "# Initialize Spark Session\n",
        "spark = SparkSession.builder \\\n",
        "    .appName(\"TwitterSentimentAnalysis\") \\\n",
        "    .getOrCreate()\n",
        "\n",
        "# Load data (example CSV containing tweets)\n",
        "df = spark.read.csv('tweets.csv', header=True, inferSchema=True)\n",
        "\n",
        "# Define a function to get the sentiment\n",
        "def get_sentiment(tweet):\n",
        "    analysis = TextBlob(tweet)\n",
        "    return 'Positive' if analysis.sentiment.polarity > 0 else 'Negative' if analysis.sentiment.polarity < 0 else 'Neutral'\n",
        "\n",
        "# Register the function as a UDF\n",
        "from pyspark.sql.functions import udf\n",
        "sentiment_udf = udf(get_sentiment)\n",
        "\n",
        "# Apply the sentiment analysis function to the tweet column\n",
        "df_with_sentiment = df.withColumn('sentiment', sentiment_udf(col('tweet')))\n",
        "\n",
        "# Show the result\n",
        "df_with_sentiment.show()\n",
        "\n",
        "# Count sentiment distribution\n",
        "sentiment_counts = df_with_sentiment.groupBy('sentiment').count()\n",
        "sentiment_counts.show()\n",
        "\n",
        "# Visualization (using matplotlib)\n",
        "sentiment_pandas = sentiment_counts.toPandas()\n",
        "sentiment_pandas.plot(kind='bar', x='sentiment', y='count', title=\"Sentiment Distribution\")\n"
      ]
    },
    {
      "cell_type": "code",
      "source": [
        "import pandas as pd\n",
        "\n",
        "# Sample dataset of tweets\n",
        "data = {\n",
        "    \"tweet\": [\n",
        "        \"I love working with big data, it's so exciting!\",\n",
        "        \"Big data is overrated and too complicated.\",\n",
        "        \"I don't know much about big data but it's a hot topic in tech.\",\n",
        "        \"Big data analytics is changing the world of business.\",\n",
        "        \"Big data is just another buzzword with no real-world application.\",\n",
        "        \"The possibilities with big data are endless!\",\n",
        "        \"I think big data could be dangerous if not handled responsibly.\",\n",
        "        \"I can't stand all the hype around big data!\",\n",
        "        \"Big data is transforming industries globally.\",\n",
        "        \"I'm skeptical about how useful big data really is in most cases.\"\n",
        "    ]\n",
        "}\n",
        "\n",
        "# Create a DataFrame\n",
        "df = pd.DataFrame(data)\n",
        "\n",
        "# Save to CSV\n",
        "df.to_csv(\"tweets.csv\", index=False)\n",
        "\n",
        "print(\"tweets.csv file has been created.\")\n"
      ],
      "metadata": {
        "colab": {
          "base_uri": "https://localhost:8080/"
        },
        "id": "cKqnY9Wuvy7L",
        "outputId": "586151ed-8929-44d1-a002-8a8f33a57c9d"
      },
      "execution_count": 3,
      "outputs": [
        {
          "output_type": "stream",
          "name": "stdout",
          "text": [
            "tweets.csv file has been created.\n"
          ]
        }
      ]
    }
  ]
}